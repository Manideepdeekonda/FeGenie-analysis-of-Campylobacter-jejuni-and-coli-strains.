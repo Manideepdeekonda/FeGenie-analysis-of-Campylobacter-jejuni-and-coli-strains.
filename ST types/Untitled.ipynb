{
 "cells": [
  {
   "cell_type": "code",
   "execution_count": 1,
   "id": "04c873ed",
   "metadata": {},
   "outputs": [],
   "source": [
    "import os\n"
   ]
  },
  {
   "cell_type": "code",
   "execution_count": 2,
   "id": "f3eccbcd",
   "metadata": {},
   "outputs": [
    {
     "ename": "NameError",
     "evalue": "name 'file_path' is not defined",
     "output_type": "error",
     "traceback": [
      "\u001b[0;31m---------------------------------------------------------------------------\u001b[0m",
      "\u001b[0;31mNameError\u001b[0m                                 Traceback (most recent call last)",
      "Cell \u001b[0;32mIn [2], line 41\u001b[0m\n\u001b[1;32m     38\u001b[0m     \u001b[38;5;28;01mreturn\u001b[39;00m created_files\n\u001b[1;32m     40\u001b[0m \u001b[38;5;66;03m# Splitting the FASTA file and saving the output files in the same directory as the input file\u001b[39;00m\n\u001b[0;32m---> 41\u001b[0m created_files_same_dir \u001b[38;5;241m=\u001b[39m split_fasta_file_same_directory(\u001b[43mfile_path\u001b[49m)\n\u001b[1;32m     43\u001b[0m \u001b[38;5;66;03m# Displaying the paths of the created files\u001b[39;00m\n\u001b[1;32m     44\u001b[0m created_files_same_dir\n",
      "\u001b[0;31mNameError\u001b[0m: name 'file_path' is not defined"
     ]
    }
   ],
   "source": [
    "def split_fasta_file_same_directory(fasta_file_path):\n",
    "    \"\"\"\n",
    "    Splits a FASTA file into multiple FASTA files, each containing a single sequence entry,\n",
    "    and saves them in the same directory as the input file.\n",
    "\n",
    "    Args:\n",
    "    fasta_file_path (str): The path to the input FASTA file.\n",
    "\n",
    "    Returns:\n",
    "    list of str: A list of the paths to the created FASTA files.\n",
    "    \"\"\"\n",
    "    # Getting the directory of the input file\n",
    "    output_directory = os.path.dirname(fasta_file_path)\n",
    "\n",
    "    created_files = []\n",
    "    current_file = None\n",
    "\n",
    "    with open(fasta_file_path, 'r') as file:\n",
    "        for line in file:\n",
    "            if line.startswith('>'):  # New sequence entry\n",
    "                if current_file:\n",
    "                    current_file.close()\n",
    "                \n",
    "                # Generate a filename based on the header line\n",
    "                header = line[1:].strip().replace(' ', '_')\n",
    "                filename = f\"{header}.fas\"\n",
    "                current_file_path = os.path.join(output_directory, filename)\n",
    "                current_file = open(current_file_path, 'w')\n",
    "                created_files.append(current_file_path)\n",
    "            \n",
    "            if current_file:\n",
    "                current_file.write(line)\n",
    "\n",
    "    # Close the last opened file\n",
    "    if current_file:\n",
    "        current_file.close()\n",
    "\n",
    "    return created_files\n",
    "\n",
    "# Splitting the FASTA file and saving the output files in the same directory as the input file\n",
    "created_files_same_dir = split_fasta_file_same_directory(file_path)\n",
    "\n",
    "# Displaying the paths of the created files\n",
    "created_files_same_dir\n"
   ]
  },
  {
   "cell_type": "code",
   "execution_count": null,
   "id": "dc6650fe",
   "metadata": {},
   "outputs": [],
   "source": []
  }
 ],
 "metadata": {
  "kernelspec": {
   "display_name": "Python 3",
   "language": "python",
   "name": "python3"
  },
  "language_info": {
   "codemirror_mode": {
    "name": "ipython",
    "version": 3
   },
   "file_extension": ".py",
   "mimetype": "text/x-python",
   "name": "python",
   "nbconvert_exporter": "python",
   "pygments_lexer": "ipython3",
   "version": "3.9.12"
  }
 },
 "nbformat": 4,
 "nbformat_minor": 5
}
